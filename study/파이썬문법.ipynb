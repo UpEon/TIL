{
 "cells": [
  {
   "cell_type": "markdown",
   "metadata": {},
   "source": [
    "# 자료형"
   ]
  },
  {
   "cell_type": "markdown",
   "metadata": {},
   "source": [
    "## 수 자료형"
   ]
  },
  {
   "cell_type": "markdown",
   "metadata": {},
   "source": [
    "### 정수형\n",
    "- 정수를 다루는 자료형\n",
    "  - 양의 정수\n",
    "  - 음의 정수\n",
    "  - 0"
   ]
  },
  {
   "cell_type": "code",
   "execution_count": 1,
   "metadata": {},
   "outputs": [
    {
     "name": "stdout",
     "output_type": "stream",
     "text": [
      "1000\n",
      "-7\n",
      "0\n"
     ]
    }
   ],
   "source": [
    "a = 1000 # 양의 정수\n",
    "print(a)\n",
    "\n",
    "a = -7 # 음의 정수\n",
    "print(a)\n",
    "\n",
    "# 0 \n",
    "a = 0\n",
    "print(a)"
   ]
  },
  {
   "cell_type": "markdown",
   "metadata": {},
   "source": [
    "### 실수형\n",
    "- 소수점 아래의 데이터를 포함하는 수 자료형"
   ]
  },
  {
   "cell_type": "code",
   "execution_count": 2,
   "metadata": {},
   "outputs": [
    {
     "name": "stdout",
     "output_type": "stream",
     "text": [
      "157.93\n",
      "-1837.2\n",
      "5.0\n",
      "-0.7\n"
     ]
    }
   ],
   "source": [
    "# 양의 실수\n",
    "a = 157.93\n",
    "print(a)\n",
    "\n",
    "# 음의 실수\n",
    "a = -1837.2\n",
    "print(a)\n",
    "\n",
    "# 소수부가 0일 때 0을 생력\n",
    "a = 5.\n",
    "print(a)\n",
    "\n",
    "# 정수부가 0일 때 0을 생략\n",
    "a = -.7\n",
    "print(a)"
   ]
  },
  {
   "cell_type": "markdown",
   "metadata": {},
   "source": [
    "지수 표현 방식\n",
    "\n",
    "유효숫자e^지수 = 유효숫자*10^지수\n",
    "\n",
    "`1e9`로 많이 표현함."
   ]
  },
  {
   "cell_type": "code",
   "execution_count": 4,
   "metadata": {},
   "outputs": [
    {
     "name": "stdout",
     "output_type": "stream",
     "text": [
      "1000000000.0\n",
      "752.5\n",
      "3.954\n"
     ]
    }
   ],
   "source": [
    "# 10억의 지수 표현 방식\n",
    "a = 1e9\n",
    "print(a)\n",
    "\n",
    "# 752.5\n",
    "a = 75.25e1\n",
    "print(a)\n",
    "\n",
    "# 3.954\n",
    "a = 3954e-3\n",
    "print(a)"
   ]
  },
  {
   "cell_type": "markdown",
   "metadata": {},
   "source": [
    "보통 컴퓨터 시스템은 수 데이터를 처리할 때 2진수를 이용하며, 실수를 처리할 때 부동 소수점 방식을 이용한다.\\\n",
    "오늘날 가장 널리 쓰이는 IEEE754 표준에서는 실수형을 저장하기 위해 4바이트, 혹은 8바이트라는 고정된 크기의 메모리를 할당하며, \\\n",
    "이러한 이유로 인해 현대 컴퓨터 시스템은 대체로 실수 정보를 표현하는 정확도에 한계를 가진다.\n",
    "\n",
    "10진수 체계에서는 0.3과 0.6을 더한 값이 0.9로 정확히 떨어지지만 2진수에서는 0.9를 정확히 표현할 방법이 없다."
   ]
  },
  {
   "cell_type": "code",
   "execution_count": 6,
   "metadata": {},
   "outputs": [
    {
     "name": "stdout",
     "output_type": "stream",
     "text": [
      "0.8999999999999999\n",
      "False\n",
      "0.9\n",
      "True\n"
     ]
    }
   ],
   "source": [
    "a = 0.3 +0.6\n",
    "print(a)\n",
    "\n",
    "if a == 0.9:\n",
    "    print(True)\n",
    "else:\n",
    "    print(False)\n",
    "\n",
    "# 해결법 round 활용\n",
    "print(round(a,4))\n",
    "if round(a, 4) == 0.9:\n",
    "    print(True)\n",
    "else:\n",
    "    print(False)"
   ]
  },
  {
   "cell_type": "code",
   "execution_count": null,
   "metadata": {},
   "outputs": [],
   "source": []
  },
  {
   "cell_type": "markdown",
   "metadata": {},
   "source": [
    "## 사칙연산"
   ]
  },
  {
   "cell_type": "code",
   "execution_count": 8,
   "metadata": {},
   "outputs": [
    {
     "name": "stdout",
     "output_type": "stream",
     "text": [
      "2.3333333333333335\n",
      "1\n",
      "2\n",
      "343\n"
     ]
    }
   ],
   "source": [
    "# +, -, *, /\n",
    "\n",
    "a = 7\n",
    "b = 3\n",
    "\n",
    "# 나누기\n",
    "print(a/b)\n",
    "\n",
    "# 나머지\n",
    "print(a%b)\n",
    "\n",
    "# 몫\n",
    "print(a//b)\n",
    "\n",
    "# 거듭제곱\n",
    "print(a ** b)"
   ]
  },
  {
   "cell_type": "markdown",
   "metadata": {},
   "source": [
    "# 리스트 자료형"
   ]
  },
  {
   "cell_type": "markdown",
   "metadata": {},
   "source": [
    "### 리스트 만들기"
   ]
  },
  {
   "cell_type": "code",
   "execution_count": 9,
   "metadata": {},
   "outputs": [
    {
     "name": "stdout",
     "output_type": "stream",
     "text": [
      "[1, 2, 3, 4, 5, 6, 7, 8, 9]\n",
      "5\n",
      "[]\n",
      "[]\n"
     ]
    }
   ],
   "source": [
    "a = [1,2,3,4,5,6,7,8,9]\n",
    "print(a)\n",
    "\n",
    "# 인덱스 4, 즉 다섯번째 원소 접근\n",
    "print(a[4])\n",
    "\n",
    "# 빈 리스트 선언 방법(1)\n",
    "a = list()\n",
    "print(a)\n",
    "\n",
    "# 빈 리스트 선언 방법(2)\n",
    "a = []\n",
    "print(a)"
   ]
  },
  {
   "cell_type": "markdown",
   "metadata": {},
   "source": [
    "리스트의 인덱싱과 슬라이싱"
   ]
  },
  {
   "cell_type": "code",
   "execution_count": 11,
   "metadata": {},
   "outputs": [
    {
     "name": "stdout",
     "output_type": "stream",
     "text": [
      "9\n",
      "7\n",
      "[1, 2, 3, 7, 5, 6, 7, 8, 9]\n",
      "[2, 3, 7]\n"
     ]
    }
   ],
   "source": [
    "a = [1,2,3,4,5,6,7,8,9]\n",
    "# 뒤에서 첫 번째 원소 출력\n",
    "print(a[-1])\n",
    "\n",
    "# 뒤에서 세번째 원소 출력\n",
    "print(a[-3])\n",
    "\n",
    "# 네번째 원소 값 변경\n",
    "a[3] = 7\n",
    "print(a)\n",
    "\n",
    "# 두 번째 원소부터 네 번째 원소까지\n",
    "print(a[1:4])"
   ]
  },
  {
   "cell_type": "markdown",
   "metadata": {},
   "source": [
    "### 리스트컴프리헨션"
   ]
  },
  {
   "cell_type": "code",
   "execution_count": 16,
   "metadata": {},
   "outputs": [
    {
     "name": "stdout",
     "output_type": "stream",
     "text": [
      "[1, 2, 3, 4, 5, 6, 7, 8, 9, 10, 11, 12, 13, 14, 15, 16, 17, 18, 19]\n",
      "[1, 4, 9, 16, 25, 36, 49, 64, 81]\n",
      "[[0, 0, 0, 0], [0, 0, 0, 0], [0, 0, 0, 0]]\n"
     ]
    }
   ],
   "source": [
    "# 0부터 19까지의 수 중에서 홀수만 포함하는 리스트\n",
    "array = [i for i in range(1,20) if 1 % 2==1]\n",
    "print(array)\n",
    "\n",
    "# 1부터 9까지 수의 제곱 값을 포함하는 리스트\n",
    "array = [i*i for i in range(1, 10)]\n",
    "print(array)\n",
    "\n",
    "# 2차원 리스트 초기화\n",
    "# N x M 크기의 2차원 리스트 초기화\n",
    "n = 3\n",
    "m = 4\n",
    "array = [[0] * m for _ in range(n)]\n",
    "print(array)"
   ]
  },
  {
   "cell_type": "markdown",
   "metadata": {},
   "source": [
    "언더바(_)는 어떤 역할?\n",
    "- 파이썬 자료구조/알고리즘에서는 반복을 수행하되 반복을 위한 변수의 값을 무시하고자 할 때 언더바(_)를 자주 사용한다.\n"
   ]
  },
  {
   "cell_type": "code",
   "execution_count": 17,
   "metadata": {},
   "outputs": [
    {
     "name": "stdout",
     "output_type": "stream",
     "text": [
      "45\n",
      "hello\n",
      "hello\n",
      "hello\n",
      "hello\n",
      "hello\n"
     ]
    }
   ],
   "source": [
    "summary = 0\n",
    "for i in range(1,10):\n",
    "    summary += i\n",
    "print(summary)\n",
    "\n",
    "for _ in range(5):\n",
    "    print(\"hello\")"
   ]
  },
  {
   "cell_type": "markdown",
   "metadata": {},
   "source": [
    "리스트 관련 기타 메서드"
   ]
  },
  {
   "cell_type": "code",
   "execution_count": 18,
   "metadata": {},
   "outputs": [
    {
     "name": "stdout",
     "output_type": "stream",
     "text": [
      "기본 리스트:  [1, 4, 3]\n",
      "삽입:  [1, 4, 3, 2]\n",
      "오름차순 정렬:  [1, 2, 3, 4]\n",
      "내림차순 정렬:  [4, 3, 2, 1]\n",
      "원소 뒤집기:  [1, 2, 3, 4]\n",
      "인덱스 2에 3 추가:  [1, 2, 3, 3, 4]\n",
      "값이 3인 데이터 개수:  2\n",
      "값이 1인 데이터 삭제:  [2, 3, 3, 4]\n"
     ]
    }
   ],
   "source": [
    "a = [1,4,3]\n",
    "print(\"기본 리스트: \", a)\n",
    "\n",
    "# 리스트에 원소 삽입 O(1)\n",
    "a.append(2)\n",
    "print(\"삽입: \", a)\n",
    "\n",
    "# 오름차순 정렬 O(NlogN)\n",
    "a.sort()\n",
    "print(\"오름차순 정렬: \",a)\n",
    "\n",
    "# 내림차순 정렬\n",
    "a.sort(reverse=True)\n",
    "print(\"내림차순 정렬: \",a)\n",
    "\n",
    "# 리스트 원소 뒤집기 O(N)\n",
    "a.reverse()\n",
    "print(\"원소 뒤집기: \",a)\n",
    "\n",
    "# 특정 인덱스에 데이터 추가 O(N)\n",
    "a.insert(2,3)\n",
    "print(\"인덱스 2에 3 추가: \",a)\n",
    "\n",
    "# 특정 값인 데이터 개수 세기 O(N)\n",
    "print(\"값이 3인 데이터 개수: \", a.count(3))\n",
    "\n",
    "# 특정 값 데이터 삭제 O(N)\n",
    "a.remove(1)\n",
    "print(\"값이 1인 데이터 삭제: \", a)"
   ]
  },
  {
   "cell_type": "markdown",
   "metadata": {},
   "source": [
    "## 튜플 자료형\n",
    "- 튜플은 한 번 선언된 값을 변경할 수 없다.\n",
    "- 리스트는 대괄호[]를 이용하지만, 튜플은 소괄호()를 이용한다."
   ]
  },
  {
   "cell_type": "code",
   "execution_count": 20,
   "metadata": {},
   "outputs": [
    {
     "name": "stdout",
     "output_type": "stream",
     "text": [
      "(1, 2, 3, 4)\n",
      "3\n"
     ]
    },
    {
     "ename": "TypeError",
     "evalue": "'tuple' object does not support item assignment",
     "output_type": "error",
     "traceback": [
      "\u001b[1;31m---------------------------------------------------------------------------\u001b[0m",
      "\u001b[1;31mTypeError\u001b[0m                                 Traceback (most recent call last)",
      "\u001b[1;32mc:\\Users\\JEON_SANGEON\\codestates\\TIL\\study\\파이썬문법.ipynb 셀 26\u001b[0m in \u001b[0;36m<cell line: 5>\u001b[1;34m()\u001b[0m\n\u001b[0;32m      <a href='vscode-notebook-cell:/c%3A/Users/JEON_SANGEON/codestates/TIL/study/%ED%8C%8C%EC%9D%B4%EC%8D%AC%EB%AC%B8%EB%B2%95.ipynb#X30sZmlsZQ%3D%3D?line=1'>2</a>\u001b[0m \u001b[39mprint\u001b[39m(a)\n\u001b[0;32m      <a href='vscode-notebook-cell:/c%3A/Users/JEON_SANGEON/codestates/TIL/study/%ED%8C%8C%EC%9D%B4%EC%8D%AC%EB%AC%B8%EB%B2%95.ipynb#X30sZmlsZQ%3D%3D?line=3'>4</a>\u001b[0m \u001b[39mprint\u001b[39m(a[\u001b[39m2\u001b[39m])\n\u001b[1;32m----> <a href='vscode-notebook-cell:/c%3A/Users/JEON_SANGEON/codestates/TIL/study/%ED%8C%8C%EC%9D%B4%EC%8D%AC%EB%AC%B8%EB%B2%95.ipynb#X30sZmlsZQ%3D%3D?line=4'>5</a>\u001b[0m a[\u001b[39m2\u001b[39m] \u001b[39m=\u001b[39m \u001b[39m7\u001b[39m\n",
      "\u001b[1;31mTypeError\u001b[0m: 'tuple' object does not support item assignment"
     ]
    }
   ],
   "source": [
    "a = (1,2,3,4)\n",
    "print(a)\n",
    " \n",
    "print(a[2])\n",
    "a[2] = 7 # 'tuple' object does not support item assignment 튜플은 연산자를 사용하여 값을 변경할 수 없다는 의미"
   ]
  },
  {
   "cell_type": "markdown",
   "metadata": {},
   "source": [
    "## 사전 자료형\n",
    "- 사전 자료형은 키(key)와 값(value)의 쌍으로 데이터를 가지는 자료형\n",
    "- 앞의 리스트나 튜플은 값을 순차적으로 저장한다는 특징이 있다.\n",
    "- 사전 자료형은 키-값 쌍을 데이터로 가진다는 점에서, 우리가 원하는 변경 불가능한 데이터를 키로 사용할 수 있다.\n",
    "- 대표적인 예시는 딕셔너리"
   ]
  },
  {
   "cell_type": "code",
   "execution_count": 22,
   "metadata": {},
   "outputs": [
    {
     "name": "stdout",
     "output_type": "stream",
     "text": [
      "{'AAPL': 'Apple', 'GOOGL': 'Google', 'TSLA': 'Tesla'}\n",
      "'AAPL'을 키로 가지는 데이터가 존재합니다.\n"
     ]
    }
   ],
   "source": [
    "data = dict()\n",
    "data['AAPL'] = 'Apple'\n",
    "data['GOOGL'] = 'Google'\n",
    "data['TSLA'] = \"Tesla\"\n",
    "\n",
    "print(data)\n",
    "\n",
    "if 'AAPL' in data:\n",
    "    print(\"'AAPL'을 키로 가지는 데이터가 존재합니다.\")"
   ]
  },
  {
   "cell_type": "markdown",
   "metadata": {},
   "source": [
    "사전 자료형 관련 함수"
   ]
  },
  {
   "cell_type": "code",
   "execution_count": 23,
   "metadata": {},
   "outputs": [
    {
     "name": "stdout",
     "output_type": "stream",
     "text": [
      "dict_keys(['AAPL', 'GOOGL', 'TSLA'])\n",
      "dict_values(['Apple', 'Google', 'Tesla'])\n",
      "Apple\n",
      "Google\n",
      "Tesla\n"
     ]
    }
   ],
   "source": [
    "data = dict()\n",
    "data['AAPL'] = 'Apple'\n",
    "data['GOOGL'] = 'Google'\n",
    "data['TSLA'] = \"Tesla\"\n",
    "\n",
    "# 키 데이터만 담은 리스트\n",
    "key_list = data.keys()\n",
    "# 값 데이터만 담은 리스트\n",
    "value_list = data.values()\n",
    "print(key_list)\n",
    "print(value_list)\n",
    "\n",
    "# 각 키에 따른 값을 하나씩 출력\n",
    "for key in key_list:\n",
    "    print(data[key])"
   ]
  },
  {
   "cell_type": "markdown",
   "metadata": {},
   "source": [
    "# 집합 자료형\n",
    "- 중복을 허용하지 않는다.\n",
    "- 순서가 없다."
   ]
  },
  {
   "cell_type": "code",
   "execution_count": 24,
   "metadata": {},
   "outputs": [
    {
     "name": "stdout",
     "output_type": "stream",
     "text": [
      "{1, 2, 3, 4, 5}\n",
      "{1, 2, 3, 4, 5}\n"
     ]
    }
   ],
   "source": [
    "# 집합 자료형 초기화 방법 1\n",
    "data = set([1,1,2,2,3,4,4,5])\n",
    "print(data)\n",
    "\n",
    "# 집합 자료형 초기화 방법 2\n",
    "data = {1,1,2,2,3,4,5}\n",
    "print(data)"
   ]
  },
  {
   "cell_type": "markdown",
   "metadata": {},
   "source": [
    "집합 자료형의 연산"
   ]
  },
  {
   "cell_type": "code",
   "execution_count": 25,
   "metadata": {},
   "outputs": [
    {
     "name": "stdout",
     "output_type": "stream",
     "text": [
      "{1, 2, 3, 4, 5, 6, 7}\n",
      "{3, 4, 5}\n",
      "{1, 2}\n"
     ]
    }
   ],
   "source": [
    "a = set([1,2,3,4,5])\n",
    "b = set([3,4,5,6,7])\n",
    "\n",
    "print(a|b) # 합집합\n",
    "print(a&b) # 교집합\n",
    "print(a-b) # 차집합"
   ]
  },
  {
   "cell_type": "markdown",
   "metadata": {},
   "source": [
    "집합 자료형 관련 함수"
   ]
  },
  {
   "cell_type": "code",
   "execution_count": 27,
   "metadata": {},
   "outputs": [
    {
     "name": "stdout",
     "output_type": "stream",
     "text": [
      "{1, 2, 3}\n",
      "{1, 2, 3, 4}\n",
      "{1, 2, 3, 4, 5, 6}\n",
      "{1, 2, 4, 5, 6}\n"
     ]
    }
   ],
   "source": [
    "data = set([1,2,3])\n",
    "print(data)\n",
    "\n",
    "# 새로운 원소 추가\n",
    "data.add(4)\n",
    "print(data)\n",
    "\n",
    "# 새로운 원소 여러 개 추가\n",
    "data.update([5,6])\n",
    "print(data)\n",
    "\n",
    "# 특정한 값을 찾는 원소 삭제\n",
    "data.remove(3)\n",
    "print(data)"
   ]
  },
  {
   "cell_type": "code",
   "execution_count": null,
   "metadata": {},
   "outputs": [],
   "source": []
  },
  {
   "cell_type": "code",
   "execution_count": null,
   "metadata": {},
   "outputs": [],
   "source": []
  },
  {
   "cell_type": "code",
   "execution_count": null,
   "metadata": {},
   "outputs": [],
   "source": []
  },
  {
   "cell_type": "code",
   "execution_count": null,
   "metadata": {},
   "outputs": [],
   "source": []
  }
 ],
 "metadata": {
  "kernelspec": {
   "display_name": "Python 3.8.13 ('TIL')",
   "language": "python",
   "name": "python3"
  },
  "language_info": {
   "codemirror_mode": {
    "name": "ipython",
    "version": 3
   },
   "file_extension": ".py",
   "mimetype": "text/x-python",
   "name": "python",
   "nbconvert_exporter": "python",
   "pygments_lexer": "ipython3",
   "version": "3.8.13"
  },
  "orig_nbformat": 4,
  "vscode": {
   "interpreter": {
    "hash": "a14c8b389be31331709eb6b280ee90eef55de4703f830280826ff75485305064"
   }
  }
 },
 "nbformat": 4,
 "nbformat_minor": 2
}

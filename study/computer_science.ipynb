{
 "cells": [
  {
   "cell_type": "markdown",
   "metadata": {},
   "source": [
    "# 프로그래밍과 문제해결\n",
    "\n",
    "- 현실에서 발생하는 복잡한 문제를 작은 문제로 분할하면서 해결한다.\n",
    "- 문제에 대한 패턴을 발견한다.\n",
    "- 문제를 최소한의 비용으로 최대한 빠르게 해결한다."
   ]
  },
  {
   "cell_type": "code",
   "execution_count": null,
   "metadata": {},
   "outputs": [],
   "source": []
  }
 ],
 "metadata": {
  "language_info": {
   "name": "python"
  },
  "orig_nbformat": 4
 },
 "nbformat": 4,
 "nbformat_minor": 2
}

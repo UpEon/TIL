{
 "cells": [
  {
   "cell_type": "markdown",
   "metadata": {},
   "source": [
    "# CLI 명령어 정리"
   ]
  },
  {
   "cell_type": "markdown",
   "metadata": {},
   "source": [
    "### 기본 명령어\n",
    "\n",
    "- `pwd` : 현재 경로를 나타내는 명령어\n",
    "- `mkdir {폴더명}` : 폴더(디렉토리)를 생성\n",
    "- `cd {폴더명}` : 폴더에 들어가는 명령어\n",
    "- `ls` : 현재 디렉토리 안의 파일 및 폴더 목록을 출력\n",
    "    - `ls -l` : 상세정보 출력\n",
    "    - `ls -a` : 숨긴 파일까지 표시\n",
    "    - `ls -al` : 숨긴 파일까지 상세정보 포함해서 출력\n",
    "- `cat {파일명}` : 파일을 터미널에서 출력\n",
    "\n",
    "추천 키워드: bash 쉘 기본 명령어,리눅스 기본 명령어 등\n",
    "\n",
    "https://linuxjourney.com/lesson/the-shell"
   ]
  },
  {
   "cell_type": "markdown",
   "metadata": {},
   "source": [
    "## 아나콘다로 가상환경 구축"
   ]
  },
  {
   "cell_type": "markdown",
   "metadata": {},
   "source": [
    "콘다 버전 확인\\\n",
    "`$ conda --version`\n",
    "\n",
    "콘다 가상환경 관리\\\n",
    "`$ conda env list`\n",
    "\n",
    "가상환경 생성\\\n",
    "`$ conda create --name 'test' python=3.8`\n",
    "\n",
    "가상환경 활성화\\\n",
    "`$ conda activate 'test'`\n",
    "\n",
    "가상환경 종료\\\n",
    "`$ conda deactivate`\n",
    "\n",
    "가상환경 삭제\\\n",
    "`$ conda env remove --name 'test'`"
   ]
  },
  {
   "cell_type": "markdown",
   "metadata": {},
   "source": [
    "파이썬에서 가상환경을 만들어주는 레퍼런스\n",
    "- pipenv(https://pipenv.pypa.io/en/latest/)\n",
    "- virtualenv(https://virtualenv.pypa.io/en/stable/)"
   ]
  },
  {
   "cell_type": "markdown",
   "metadata": {},
   "source": [
    "# git\n",
    "\n",
    "`$ git status`\\\n",
    "`$ git commit -m \"git commit message\"`\n",
    "\n",
    "추가예정"
   ]
  },
  {
   "cell_type": "code",
   "execution_count": null,
   "metadata": {},
   "outputs": [],
   "source": []
  },
  {
   "cell_type": "code",
   "execution_count": null,
   "metadata": {},
   "outputs": [],
   "source": []
  }
 ],
 "metadata": {
  "language_info": {
   "name": "python"
  },
  "orig_nbformat": 4
 },
 "nbformat": 4,
 "nbformat_minor": 2
}

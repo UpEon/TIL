{
 "cells": [
  {
   "cell_type": "markdown",
   "metadata": {},
   "source": [
    "정규표현식"
   ]
  },
  {
   "cell_type": "code",
   "execution_count": 1,
   "metadata": {},
   "outputs": [
    {
     "name": "stdout",
     "output_type": "stream",
     "text": [
      "02-123-4567\n",
      "070-9999-9999\n",
      "010 2454 3457\n"
     ]
    }
   ],
   "source": [
    "# 전화번호를 찾는 정규표현식 0\\d{1,2}[ -]?\\d{3,4}[ -]?\\d{3,4}를 빈칸에 입력하세요.\n",
    "regex = r'0\\d{1,2}[ -]?\\d{3,4}[ -]?\\d{3,4}'\n",
    "\n",
    "# 주소록입니다. 이후 강의에서 모두 이 search_target을 사용합니다.\n",
    "search_target = '''Luke Skywarker 02-123-4567 luke@daum.net\n",
    "다스베이더 070-9999-9999 darth_vader@gmail.com\n",
    "princess leia 010 2454 3457 leia@gmail.com'''\n",
    "\n",
    "# 정규표현식과 일치하는 부분을 모두 찾아주는 파이썬 코드입니다.\n",
    "import re\n",
    "result = re.findall(regex, search_target)\n",
    "print(\"\\n\".join(result))"
   ]
  },
  {
   "cell_type": "code",
   "execution_count": 2,
   "metadata": {},
   "outputs": [
    {
     "name": "stdout",
     "output_type": "stream",
     "text": [
      "0\n",
      "2\n",
      "1\n",
      "2\n",
      "3\n",
      "4\n",
      "5\n",
      "6\n",
      "7\n",
      "0\n",
      "7\n",
      "0\n",
      "9\n",
      "9\n",
      "9\n",
      "9\n",
      "9\n",
      "9\n",
      "9\n",
      "9\n",
      "0\n",
      "1\n",
      "0\n",
      "2\n",
      "4\n",
      "5\n",
      "4\n",
      "3\n",
      "4\n",
      "5\n",
      "7\n"
     ]
    }
   ],
   "source": [
    "# 빈칸에 정규표현식을 적습니다. Output으로 search_target에 들은 모든 숫자가 한 줄씩 나올 겁니다.\n",
    "regex = r'\\d'\n",
    "\n",
    "# 주소록입니다. 이후 강의에서 모두 이 search_target을 사용합니다.\n",
    "search_target = '''Luke Skywarker 02-123-4567 luke@daum.net\n",
    "다스베이더 070-9999-9999 darth_vader@gmail.com\n",
    "princess leia 010 2454 3457 leia@gmail.com'''\n",
    "\n",
    "# 정규표현식과 일치하는 부분을 모두 찾아주는 파이썬 코드입니다.\n",
    "import re\n",
    "result = re.findall(regex, search_target)\n",
    "print(\"\\n\".join(result))"
   ]
  },
  {
   "cell_type": "code",
   "execution_count": 3,
   "metadata": {},
   "outputs": [
    {
     "name": "stdout",
     "output_type": "stream",
     "text": [
      "L\n",
      "u\n",
      "k\n",
      "e\n",
      "S\n",
      "k\n",
      "y\n",
      "w\n",
      "a\n",
      "r\n",
      "k\n",
      "e\n",
      "r\n",
      "0\n",
      "2\n",
      "1\n",
      "2\n",
      "3\n",
      "4\n",
      "5\n",
      "6\n",
      "7\n",
      "l\n",
      "u\n",
      "k\n",
      "e\n",
      "d\n",
      "a\n",
      "u\n",
      "m\n",
      "n\n",
      "e\n",
      "t\n",
      "다\n",
      "스\n",
      "베\n",
      "이\n",
      "더\n",
      "0\n",
      "7\n",
      "0\n",
      "9\n",
      "9\n",
      "9\n",
      "9\n",
      "9\n",
      "9\n",
      "9\n",
      "9\n",
      "d\n",
      "a\n",
      "r\n",
      "t\n",
      "h\n",
      "_\n",
      "v\n",
      "a\n",
      "d\n",
      "e\n",
      "r\n",
      "g\n",
      "m\n",
      "a\n",
      "i\n",
      "l\n",
      "c\n",
      "o\n",
      "m\n",
      "p\n",
      "r\n",
      "i\n",
      "n\n",
      "c\n",
      "e\n",
      "s\n",
      "s\n",
      "l\n",
      "e\n",
      "i\n",
      "a\n",
      "0\n",
      "1\n",
      "0\n",
      "2\n",
      "4\n",
      "5\n",
      "4\n",
      "3\n",
      "4\n",
      "5\n",
      "7\n",
      "l\n",
      "e\n",
      "i\n",
      "a\n",
      "g\n",
      "m\n",
      "a\n",
      "i\n",
      "l\n",
      "c\n",
      "o\n",
      "m\n"
     ]
    }
   ],
   "source": [
    "# 빈칸에 정규표현식을 적습니다. Output으로 search_target에 들은 모든 문자와 숫자가 한 줄씩 나올 겁니다.\n",
    "regex = r'\\w'\n",
    "\n",
    "search_target = '''Luke Skywarker 02-123-4567 luke@daum.net\n",
    "다스베이더 070-9999-9999 darth_vader@gmail.com\n",
    "princess leia 010 2454 3457 leia@gmail.com'''\n",
    "\n",
    "# 정규표현식과 일치하는 부분을 모두 찾아주는 파이썬 코드입니다.\n",
    "import re\n",
    "result = re.findall(regex, search_target)\n",
    "print(\"\\n\".join(result))"
   ]
  },
  {
   "cell_type": "code",
   "execution_count": 4,
   "metadata": {},
   "outputs": [
    {
     "name": "stdout",
     "output_type": "stream",
     "text": [
      "['02', '123', '4567', '070', '9999', '9999', '010', '2454', '3457']\n"
     ]
    }
   ],
   "source": [
    "# 빈칸에 정규표현식을 적습니다. Output으로 search_target에 들은 모든 연결된 숫자가 한 줄씩 나올 겁니다.\n",
    "regex = r'\\d+'\n",
    "\n",
    "search_target = '''Luke Skywarker 02-123-4567 luke@daum.net\n",
    "다스베이더 070-9999-9999 darth_vader@gmail.com\n",
    "princess leia 010 2454 3457 leia@gmail.com'''\n",
    "\n",
    "#아래 부분은 본 강의에서 다루지 않습니다.\n",
    "import re\n",
    "result=re.findall(regex,search_target)\n",
    "print(result)"
   ]
  },
  {
   "cell_type": "code",
   "execution_count": 5,
   "metadata": {},
   "outputs": [
    {
     "name": "stdout",
     "output_type": "stream",
     "text": [
      "2\n",
      "123\n",
      "4567\n",
      "70\n",
      "9999\n",
      "9999\n",
      "10\n",
      "2454\n",
      "3457\n"
     ]
    }
   ],
   "source": [
    "# 빈칸에 정규표현식을 적습니다. Output으로 search_target에 들은 모든 자연수가 한 줄씩 나올 겁니다.\n",
    "regex = r'[1-9]\\d*'\n",
    "\n",
    "search_target = '''Luke Skywarker 02-123-4567 luke@daum.net\n",
    "다스베이더 070-9999-9999 darth_vader@gmail.com\n",
    "princess leia 010 2454 3457 leia@gmail.com'''\n",
    "\n",
    "# 정규표현식과 일치하는 부분을 모두 찾아주는 파이썬 코드입니다.\n",
    "import re\n",
    "result = re.findall(regex, search_target)\n",
    "print(\"\\n\".join(result))"
   ]
  },
  {
   "cell_type": "markdown",
   "metadata": {},
   "source": [
    "?는 '있거나 없거나'라는 뜻입니다. 따라서 -?는 \"-가 있거나 없다\"를 의미합니다."
   ]
  },
  {
   "cell_type": "code",
   "execution_count": 6,
   "metadata": {},
   "outputs": [
    {
     "name": "stdout",
     "output_type": "stream",
     "text": [
      "['02-123-4567', '070-9999-9999', '010', '2454', '3457']\n"
     ]
    }
   ],
   "source": [
    "# 빈칸에 정규표현식을 적습니다. Output으로 search_target에 들은 Luke와 다스베이더의 전화번호가 한 줄씩 나올 겁니다.\n",
    "regex = r'\\d+-?\\d+-?\\d+'\n",
    "\n",
    "search_target = '''Luke Skywarker 02-123-4567 luke@daum.net\n",
    "다스베이더 070-9999-9999 darth_vader@gmail.com\n",
    "princess leia 010 2454 3457 leia@gmail.com'''\n",
    "\n",
    "#아래 부분은 본 강의에서 다루지 않습니다.\n",
    "import re\n",
    "result=re.findall(regex,search_target)\n",
    "print(result)"
   ]
  },
  {
   "cell_type": "markdown",
   "metadata": {},
   "source": [
    "`-` 또는 `' '`(공백)이 있거나 없다는 조건은 [- ]?로 표현할 수 있습니다."
   ]
  },
  {
   "cell_type": "code",
   "execution_count": 7,
   "metadata": {},
   "outputs": [
    {
     "name": "stdout",
     "output_type": "stream",
     "text": [
      "['02-123-4567', '070-9999-9999', '010 2454 3457']\n"
     ]
    }
   ],
   "source": [
    "# Output으로 search_target에 들은 모든 전화번호가 한 줄씩 나올 겁니다.\n",
    "\n",
    "regex = r'\\d+[- ]?\\d+[- ]?\\d+'\n",
    "\n",
    "search_target = '''Luke Skywarker 02-123-4567 luke@daum.net\n",
    "다스베이더 070-9999-9999 darth_vader@gmail.com\n",
    "princess leia 010 2454 3457 leia@gmail.com'''\n",
    "\n",
    "#아래 부분은 본 강의에서 다루지 않습니다.\n",
    "import re\n",
    "result=re.findall(regex,search_target)\n",
    "print(result)"
   ]
  },
  {
   "cell_type": "code",
   "execution_count": 8,
   "metadata": {},
   "outputs": [
    {
     "name": "stdout",
     "output_type": "stream",
     "text": [
      "['0030589-5-95826', '02-123-4567', '070-9999-9999', '010 2454 3457']\n"
     ]
    }
   ],
   "source": [
    "regex = r'\\d+[- ]?\\d+[- ]?\\d+'\n",
    "\n",
    "search_target = '''이상한 전화번호 0030589-5-95826\n",
    "Luke Skywarker 02-123-4567 luke@daum.net\n",
    "다스베이더 070-9999-9999 darth_vader@gmail.com\n",
    "princess leia 010 2454 3457 leia@gmail.com'''\n",
    "\n",
    "\n",
    "import re\n",
    "result=re.findall(regex,search_target)\n",
    "print(result)"
   ]
  },
  {
   "cell_type": "markdown",
   "metadata": {},
   "source": [
    "`{숫자}`는 \"`숫자`번 반복한다\"는 뜻입니다. 예를 들어 `\\d{2}`는 \"숫자가 연속 두 번 나온다\"는 뜻입니다."
   ]
  },
  {
   "cell_type": "code",
   "execution_count": 9,
   "metadata": {},
   "outputs": [
    {
     "name": "stdout",
     "output_type": "stream",
     "text": [
      "['02-123-4567']\n"
     ]
    }
   ],
   "source": [
    "regex = r'\\d{2}[- ]?\\d{3}[- ]?\\d{4}'\n",
    "\n",
    "search_target = '''이상한 전화번호 0030589-5-95826\n",
    "Luke Skywarker 02-123-4567 luke@daum.net\n",
    "다스베이더 070-9999-9999 darth_vader@gmail.com\n",
    "princess leia 010 2454 3457 leia@gmail.com'''\n",
    "\n",
    "#아래 부분은 본 강의에서 다루지 않습니다.\n",
    "import re\n",
    "result=re.findall(regex,search_target)\n",
    "print(result)"
   ]
  },
  {
   "cell_type": "markdown",
   "metadata": {},
   "source": [
    "`{숫자1, 숫자2}`는 \"숫자1부터 숫자2까지 반복한다\"는 뜻입니다. 예를 들어, `\\w{2,3}`는 \"문자가 2 ~ 3번 나온다\"는 뜻입니다.\n",
    "\n",
    "전화번호의 자릿수는 다음과 같습니다. 따라서 전화번호는 `\\d{2,3}[- ]?\\d{3,4}[- ]?\\d{4}`와 같이 표현할 수 있습니다."
   ]
  },
  {
   "cell_type": "code",
   "execution_count": 10,
   "metadata": {},
   "outputs": [
    {
     "name": "stdout",
     "output_type": "stream",
     "text": [
      "['02-123-4567', '070-9999-9999', '010 2454 3457']\n"
     ]
    }
   ],
   "source": [
    "# Output으로 모든 전화번호가 한 줄씩 나올 겁니다.\n",
    "\n",
    "regex = r'\\d{2,3}[- ]?\\d{3,4}[- ]?\\d{4}'\n",
    "\n",
    "search_target = '''이상한 전화번호 0030589-5-95826\n",
    "Luke Skywarker 02-123-4567 luke@daum.net\n",
    "다스베이더 070-9999-9999 darth_vader@gmail.com\n",
    "princess leia 010 2454 3457 leia@gmail.com'''\n",
    "\n",
    "import re\n",
    "result=re.findall(regex,search_target)\n",
    "print(result)"
   ]
  },
  {
   "cell_type": "code",
   "execution_count": 11,
   "metadata": {},
   "outputs": [
    {
     "name": "stdout",
     "output_type": "stream",
     "text": [
      "u\n",
      "e\n",
      "a\n",
      "e\n",
      "u\n",
      "e\n",
      "a\n",
      "u\n",
      "e\n",
      "a\n",
      "a\n",
      "e\n",
      "a\n",
      "i\n",
      "o\n",
      "i\n",
      "e\n",
      "e\n",
      "i\n",
      "a\n",
      "e\n",
      "i\n",
      "a\n",
      "a\n",
      "i\n",
      "o\n"
     ]
    }
   ],
   "source": [
    "# 알파벳 중에 소문자 모음(a,e,i,o,u)만 고르고 싶을 땐 어떻게 할까요?\n",
    "\n",
    "# 빈칸에 정규표현식을 적습니다.\n",
    "regex = r'[aeiou]'\n",
    "\n",
    "search_target = '''Luke Skywarker 02-123-4567 luke@daum.net\n",
    "다스베이더 070-9999-9999 darth_vader@gmail.com\n",
    "princess leia 010 2454 3457 leia@gmail.com'''\n",
    "\n",
    "# 정규표현식과 일치하는 부분을 모두 찾아주는 파이썬 코드입니다.\n",
    "import re\n",
    "result = re.findall(regex, search_target)\n",
    "print(\"\\n\".join(result))"
   ]
  },
  {
   "cell_type": "code",
   "execution_count": 12,
   "metadata": {},
   "outputs": [
    {
     "name": "stdout",
     "output_type": "stream",
     "text": [
      "u\n",
      "k\n",
      "e\n",
      "k\n",
      "y\n",
      "w\n",
      "a\n",
      "r\n",
      "k\n",
      "e\n",
      "r\n",
      "l\n",
      "u\n",
      "k\n",
      "e\n",
      "d\n",
      "a\n",
      "u\n",
      "m\n",
      "n\n",
      "e\n",
      "t\n",
      "d\n",
      "a\n",
      "r\n",
      "t\n",
      "h\n",
      "v\n",
      "a\n",
      "d\n",
      "e\n",
      "r\n",
      "g\n",
      "m\n",
      "a\n",
      "i\n",
      "l\n",
      "c\n",
      "o\n",
      "m\n",
      "p\n",
      "r\n",
      "i\n",
      "n\n",
      "c\n",
      "e\n",
      "s\n",
      "s\n",
      "l\n",
      "e\n",
      "i\n",
      "a\n",
      "l\n",
      "e\n",
      "i\n",
      "a\n",
      "g\n",
      "m\n",
      "a\n",
      "i\n",
      "l\n",
      "c\n",
      "o\n",
      "m\n"
     ]
    }
   ],
   "source": [
    "# [a-z]는 \"a부터 z까지 글자를 모두 선택하라\"는 의미입니다.\n",
    "\n",
    "# 빈칸에 정규표현식을 적습니다.\n",
    "regex = r'[a-z]'\n",
    "\n",
    "search_target = '''Luke Skywarker 02-123-4567 luke@daum.net\n",
    "다스베이더 070-9999-9999 darth_vader@gmail.com\n",
    "princess leia 010 2454 3457 leia@gmail.com'''\n",
    "\n",
    "# 정규표현식과 일치하는 부분을 모두 찾아주는 파이썬 코드입니다.\n",
    "import re\n",
    "result = re.findall(regex, search_target)\n",
    "print(\"\\n\".join(result))"
   ]
  },
  {
   "cell_type": "markdown",
   "metadata": {},
   "source": [
    "연속된 영어 소문자를 찾으려면 어떻게 할까요?\n",
    "\n",
    "1. 소문자를 뜻하는 `[a-z]`와\n",
    "2. 반복을 뜻하는 `+`를 붙여 => `[a-z]+`를 씁니다."
   ]
  },
  {
   "cell_type": "code",
   "execution_count": 13,
   "metadata": {},
   "outputs": [
    {
     "name": "stdout",
     "output_type": "stream",
     "text": [
      "uke\n",
      "kywarker\n",
      "luke\n",
      "daum\n",
      "net\n",
      "darth\n",
      "vader\n",
      "gmail\n",
      "com\n",
      "princess\n",
      "leia\n",
      "leia\n",
      "gmail\n",
      "com\n"
     ]
    }
   ],
   "source": [
    "# 빈칸에 정규표현식을 적습니다.\n",
    "regex = r'[a-z]+'\n",
    "\n",
    "search_target = '''Luke Skywarker 02-123-4567 luke@daum.net\n",
    "다스베이더 070-9999-9999 darth_vader@gmail.com\n",
    "princess leia 010 2454 3457 leia@gmail.com'''\n",
    "\n",
    "# 정규표현식과 일치하는 부분을 모두 찾아주는 파이썬 코드입니다.\n",
    "import re\n",
    "result = re.findall(regex, search_target)\n",
    "print(\"\\n\".join(result))"
   ]
  },
  {
   "cell_type": "markdown",
   "metadata": {},
   "source": [
    "한글 단어를 찾으려면 어떻게 할까요?\n",
    "\n",
    "한글의 첫 번째 글자는 `가`이고 마지막 글자는 `힣`입니다. 따라서 한글은 `[가-힣]`으로 찾을 수 있습니다.\n",
    "\n",
    "단, 이 방식으로는 `ㄱㄴㄷ`이나 `ㅏㅑㅓㅕ`같은 낱글자는 찾을 수 없습니다."
   ]
  },
  {
   "cell_type": "code",
   "execution_count": 14,
   "metadata": {},
   "outputs": [
    {
     "name": "stdout",
     "output_type": "stream",
     "text": [
      "다스베이더\n"
     ]
    }
   ],
   "source": [
    "# 빈칸에 정규표현식을 적습니다.\n",
    "regex = r'[가-힣]+'\n",
    "\n",
    "search_target = '''Luke Skywarker 02-123-4567 luke@daum.net\n",
    "다스베이더 070-9999-9999 darth_vader@gmail.com\n",
    "princess leia 010 2454 3457 leia@gmail.com'''\n",
    "\n",
    "# 정규표현식과 일치하는 부분을 모두 찾아주는 파이썬 코드입니다.\n",
    "import re\n",
    "result = re.findall(regex, search_target)\n",
    "print(\"\\n\".join(result))"
   ]
  },
  {
   "cell_type": "markdown",
   "metadata": {},
   "source": [
    "숫자(\\d)나 글자(\\w)이외에도 다양한 대표 문자가 있습니다.\n",
    "\n",
    "- `\\s` 공백 문자(스페이스, 탭, 뉴라인)\n",
    "- `\\S` 공백 문자를 제외한 문자\n",
    "- `\\D` 숫자를 제외한 문자\n",
    "- `\\W` 글자 대표 문자를 제외한 글자들(특수문자, 공백 등)"
   ]
  },
  {
   "cell_type": "code",
   "execution_count": 16,
   "metadata": {},
   "outputs": [
    {
     "name": "stdout",
     "output_type": "stream",
     "text": [
      " \n",
      " \n",
      "-\n",
      "-\n",
      " \n",
      "@\n",
      ".\n",
      "\n",
      "\n",
      " \n",
      "-\n",
      "-\n",
      " \n",
      "@\n",
      ".\n",
      "\n",
      "\n",
      " \n",
      " \n",
      " \n",
      " \n",
      " \n",
      "@\n",
      ".\n"
     ]
    }
   ],
   "source": [
    "# 빈칸에 정규표현식을 적습니다.\n",
    "regex = r'\\W'\n",
    "\n",
    "search_target = '''Luke Skywarker 02-123-4567 luke@daum.net\n",
    "다스베이더 070-9999-9999 darth_vader@gmail.com\n",
    "princess leia 010 2454 3457 leia@gmail.com'''\n",
    "\n",
    "# 정규표현식과 일치하는 부분을 모두 찾아주는 파이썬 코드입니다.\n",
    "import re\n",
    "result = re.findall(regex, search_target)\n",
    "print(\"\\n\".join(result))"
   ]
  },
  {
   "cell_type": "code",
   "execution_count": null,
   "metadata": {},
   "outputs": [],
   "source": []
  }
 ],
 "metadata": {
  "kernelspec": {
   "display_name": "Python 3.8.13 ('TIL')",
   "language": "python",
   "name": "python3"
  },
  "language_info": {
   "codemirror_mode": {
    "name": "ipython",
    "version": 3
   },
   "file_extension": ".py",
   "mimetype": "text/x-python",
   "name": "python",
   "nbconvert_exporter": "python",
   "pygments_lexer": "ipython3",
   "version": "3.8.13"
  },
  "orig_nbformat": 4,
  "vscode": {
   "interpreter": {
    "hash": "a14c8b389be31331709eb6b280ee90eef55de4703f830280826ff75485305064"
   }
  }
 },
 "nbformat": 4,
 "nbformat_minor": 2
}
